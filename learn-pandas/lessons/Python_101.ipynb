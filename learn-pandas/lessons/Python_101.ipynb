{
 "metadata": {
  "name": "Python_101_20121210"
 },
 "nbformat": 3,
 "nbformat_minor": 0,
 "worksheets": [
  {
   "cells": [
    {
     "cell_type": "heading",
     "level": 1,
     "metadata": {},
     "source": "Python 101"
    },
    {
     "cell_type": "heading",
     "level": 3,
     "metadata": {},
     "source": "Importing Packages"
    },
    {
     "cell_type": "code",
     "collapsed": false,
     "input": "from numpy import *\nfrom pandas import *\n\n#using import * brings ALL the packages classes and functions into the name space,\n#for large packages you can bring in only some parts by doing from [name] import [class/object]\n#to avoid name space conflicts you can also rename what you import\n\n#import pandas and rename it\nimport pandas as pd\n#import the Series and dataframe classes\nfrom pandas import Series, DataFrame\n\n#common naming conventions. numpy is np, pandas pd, and matplotlib is plt\nimport numpy as np\nimport pandas as pd\nimport matplotlib.pyplot as plt",
     "language": "python",
     "metadata": {},
     "outputs": []
    },
    {
     "cell_type": "heading",
     "level": 3,
     "metadata": {},
     "source": "Declaring Variables"
    },
    {
     "cell_type": "code",
     "collapsed": false,
     "input": "#no data types need to be associated with variables\n#all variables are \"Objects\" in python. \n\nnum = 5\nalpha = 'hello world'\nmixed = str(num) + ' ' + alpha\n\nprint num\nprint alpha\nprint mixed",
     "language": "python",
     "metadata": {},
     "outputs": []
    },
    {
     "cell_type": "heading",
     "level": 2,
     "metadata": {},
     "source": "Lists"
    },
    {
     "cell_type": "heading",
     "level": 3,
     "metadata": {},
     "source": "Creating"
    },
    {
     "cell_type": "code",
     "collapsed": false,
     "input": "#this is a list\na=[0,1,2,3,4,5,6,7,8,9]\na",
     "language": "python",
     "metadata": {},
     "outputs": []
    },
    {
     "cell_type": "heading",
     "level": 3,
     "metadata": {},
     "source": "Slice and Dice"
    },
    {
     "cell_type": "code",
     "collapsed": false,
     "input": "#use [x] to access the item at location x in the list\n#all lists start at 0\nprint 'first item', a[0]\n\n#you can also index from back by using -1 for last, -2 for \"second from last\" etc\nprint 'last item', a[-1]\n\n#you can \"slice\" a list using : and ::\nprint 'first three items', a[:3]\nprint 'last three items', a[-3:]\nprint 'start at the 4th item', a[3:]\nprint 'the odd items', a[::2]",
     "language": "python",
     "metadata": {},
     "outputs": []
    },
    {
     "cell_type": "code",
     "collapsed": false,
     "input": "#all lists have a length, use len(list_name) to get the number of items in it\n#mathematical functions can also, in general, be applied to lists if they contain numbers\nprint 'length of list', len(a)\nprint 'largets number in list', max(a)\nprint 'smallest number', min(a)\nprint 'average', mean(a)\n\n#we can find the index of the max and min using argmax() and argmin()\nprint 'the largest number in the list is', max(a), 'and is found at index:', argmax(a)",
     "language": "python",
     "metadata": {},
     "outputs": []
    },
    {
     "cell_type": "heading",
     "level": 3,
     "metadata": {},
     "source": "Add Items"
    },
    {
     "cell_type": "code",
     "collapsed": false,
     "input": "#items can be added to a list by using list_name.append(item)\n\n#add 3 to the list\na.append(3)\n#add 4\na.append(4)\na",
     "language": "python",
     "metadata": {},
     "outputs": []
    },
    {
     "cell_type": "code",
     "collapsed": false,
     "input": "#finally, we can de dupe a list by using the unique function\n#we can also sort a list using sort(list_name)\n\nprint 'sorted list', sort(a)\nprint 'select distinct values', unique(a)",
     "language": "python",
     "metadata": {},
     "outputs": []
    },
    {
     "cell_type": "heading",
     "level": 3,
     "metadata": {},
     "source": "Remove Items"
    },
    {
     "cell_type": "code",
     "collapsed": false,
     "input": "#items can be removed from the list using list_name.remove(item)\n\n#remove 3 from the list\na.remove(3)\n#remove 4\na.remove(4)\na",
     "language": "python",
     "metadata": {},
     "outputs": []
    },
    {
     "cell_type": "heading",
     "level": 3,
     "metadata": {},
     "source": "Itterators"
    },
    {
     "cell_type": "code",
     "collapsed": false,
     "input": "#we can itterate over n items using a for loop\n\n#a shortcut for making the list [0,...,n-1] is the function range(n)\n\n#print the numbers 0 -4\nfor i in range(5):\n    print i",
     "language": "python",
     "metadata": {},
     "outputs": []
    },
    {
     "cell_type": "code",
     "collapsed": false,
     "input": "#print the numbers 0 -4\nfor i in range(0,5):\n    print i",
     "language": "python",
     "metadata": {},
     "outputs": []
    },
    {
     "cell_type": "code",
     "collapsed": false,
     "input": "#print the a list\nfor i in a:\n    print i",
     "language": "python",
     "metadata": {},
     "outputs": []
    },
    {
     "cell_type": "code",
     "collapsed": false,
     "input": "#itterating over something and appending is a common way of building lists\n\n#create array\noutput=[]\n\n#build the list holding the first 4 squares by using a for loop\nfor i in range(5):\n    output.append(i**2) #**2 operator means squared\noutput",
     "language": "python",
     "metadata": {},
     "outputs": []
    },
    {
     "cell_type": "code",
     "collapsed": false,
     "input": "#this works but is slow, a faster way to do this is to use list comprehension\n\noutput2=[i**2 for i in range(5)]\noutput2",
     "language": "python",
     "metadata": {},
     "outputs": []
    },
    {
     "cell_type": "code",
     "collapsed": false,
     "input": "#we can also put conditions in the list comprehension\n\n#build the first 10 squares for all the even numbers\noutput3=[i**2 for i in range(10) if i%2==0] # % is means modulus (remainder)\noutput3",
     "language": "python",
     "metadata": {},
     "outputs": []
    },
    {
     "cell_type": "code",
     "collapsed": false,
     "input": "#the zip command lines up two lists together\n\nL1=[1,2,3]\nL2=['x','y','z']\n\n#the output is a list of tuples\nprint zip(L1,L2)",
     "language": "python",
     "metadata": {},
     "outputs": []
    },
    {
     "cell_type": "code",
     "collapsed": false,
     "input": "#if they are of different size, it gets chopped off\n\nL1=[1,2,3,4]\nL2=['x','y','z']\n\n#the output is a list of tuples\nprint zip(L1,L2)",
     "language": "python",
     "metadata": {},
     "outputs": []
    },
    {
     "cell_type": "code",
     "collapsed": false,
     "input": "#it is very common to itterate over lists using zip\n\nfor list1,list2 in zip(L1,L2):\n    print list1,list2",
     "language": "python",
     "metadata": {},
     "outputs": []
    },
    {
     "cell_type": "code",
     "collapsed": false,
     "input": "#this can also be done with list comprehension\nprint [(x,y) for x,y in zip(L1,L2)]\n\n#we can also make more complex lists\noutput=[(x,y,str(x)+y) for x,y in zip(L1,L2)]\n\n#itterate over our output for a nicer looking print statement\nfor z in output:\n    print z\n\n#we can also do this differently\nfor a1,a2,a3 in output:\n    print a1,a2,a3",
     "language": "python",
     "metadata": {},
     "outputs": []
    },
    {
     "cell_type": "heading",
     "level": 3,
     "metadata": {},
     "source": "IF ELSE Statements"
    },
    {
     "cell_type": "code",
     "collapsed": false,
     "input": "if 1==1:\n    print 'one equals one'",
     "language": "python",
     "metadata": {},
     "outputs": []
    },
    {
     "cell_type": "code",
     "collapsed": false,
     "input": "if 1<0:\n    print 'one is less than zero'\nelse:\n    print '1 does not equal to 0'",
     "language": "python",
     "metadata": {},
     "outputs": []
    },
    {
     "cell_type": "code",
     "collapsed": false,
     "input": "if 1<>1: #you can also use the != operator\n    print 'one does not equal to one '\nelif 1==0:\n    print '1 is equal to zero'\nelse:\n    print '1 does not equal to 0'\n    \n",
     "language": "python",
     "metadata": {},
     "outputs": []
    },
    {
     "cell_type": "code",
     "collapsed": false,
     "input": "if (1==1 and 0<1):\n    print 'and operator'\n    \nif (1==1 or 0==1):\n    print 'or operator'",
     "language": "python",
     "metadata": {},
     "outputs": []
    },
    {
     "cell_type": "heading",
     "level": 3,
     "metadata": {},
     "source": "WHILE Statements"
    },
    {
     "cell_type": "code",
     "collapsed": false,
     "input": "#counter\ni = 0\n\n#loop while i < 5\nwhile i < 5:\n    print i\n    \n    #increment counter\n    i = i + 1",
     "language": "python",
     "metadata": {},
     "outputs": []
    },
    {
     "cell_type": "heading",
     "level": 2,
     "metadata": {},
     "source": "Functions"
    },
    {
     "cell_type": "code",
     "collapsed": false,
     "input": "#define functions\n\ndef SimpleAdd(Number):\n    return Number\n\ndef SimpleAdd2(N1, N2):\n    return N1 + N2\n\ndef SimpleAdd3(N1=2, N2=2):\n    return N1 + N2\n\n#return a 10\nprint SimpleAdd(10)\n\n#return 2 + 5\nprint SimpleAdd2(2,5)\n\n#return 1 + 3\nprint SimpleAdd3(1,3)\n\n#use default parameters\nprint SimpleAdd3()\n",
     "language": "python",
     "metadata": {},
     "outputs": []
    },
    {
     "cell_type": "heading",
     "level": 2,
     "metadata": {},
     "source": "Excel"
    },
    {
     "cell_type": "code",
     "collapsed": false,
     "input": "from xlwt import *",
     "language": "python",
     "metadata": {},
     "outputs": []
    },
    {
     "cell_type": "heading",
     "level": 3,
     "metadata": {},
     "source": "Add an image"
    },
    {
     "cell_type": "code",
     "collapsed": false,
     "input": "# Create a workbook\nwb = Workbook()\n\n# Add a sheet/tab\nws0 = wb.add_sheet('Picture_Test')\n\n# Add picture at location (2,1)\n# Note: Only accepts bmp files\n# i.e. ws0.insert_bitmap('C:\\Users\\username\\Desktop/test.bmp', 2, 1)\nws0.insert_bitmap('DataFiles\\\\testpic.bmp', 2, 1)\n\n# Write excel file\n# Note: This will overwrite any other files with the same name\nwb.save('AddImage.xls')",
     "language": "python",
     "metadata": {},
     "outputs": []
    },
    {
     "cell_type": "heading",
     "level": 3,
     "metadata": {},
     "source": "Convert image to BMP"
    },
    {
     "cell_type": "code",
     "collapsed": false,
     "input": "#convert an image file to a .bmp image file using PIL\nfrom PIL import Image\n\n# Convert to bmp\ndef ConvertImg(file_in,file_out):\n    img = Image.open(file_in)\n\n    #print len(img.split())  # test\n    if len(img.split()) == 4:\n        # prevent IOError: cannot write mode RGBA as BMP\n        r, g, b, a = img.split()\n        img = Image.merge(\"RGB\", (r, g, b))\n        img.save(file_out)\n    else:\n        img.save(file_out)\n\nConvertImg('DataFiles/pngInput.png', 'DataFiles/bmpOutput.bmp')",
     "language": "python",
     "metadata": {},
     "outputs": []
    },
    {
     "cell_type": "heading",
     "level": 2,
     "metadata": {},
     "source": "Delete Files"
    },
    {
     "cell_type": "code",
     "collapsed": false,
     "input": "import os\n\n# Delete file\nos.remove('DataFiles/bmpOutput.bmp')",
     "language": "python",
     "metadata": {},
     "outputs": []
    },
    {
     "cell_type": "heading",
     "level": 2,
     "metadata": {},
     "source": "Dates"
    },
    {
     "cell_type": "code",
     "collapsed": false,
     "input": "from datetime import datetime, date, time\n\n# Get today's date\nCurrentTime = datetime.now()\nCurrentTime = CurrentTime.strftime(\"%Y-%m-%d_%H-%M-%S\")\nCurrentTime",
     "language": "python",
     "metadata": {},
     "outputs": []
    },
    {
     "cell_type": "code",
     "collapsed": false,
     "input": "",
     "language": "python",
     "metadata": {},
     "outputs": []
    },
    {
     "cell_type": "code",
     "collapsed": false,
     "input": "",
     "language": "python",
     "metadata": {},
     "outputs": []
    },
    {
     "cell_type": "code",
     "collapsed": false,
     "input": "",
     "language": "python",
     "metadata": {},
     "outputs": []
    },
    {
     "cell_type": "heading",
     "level": 2,
     "metadata": {},
     "source": "Pandas"
    },
    {
     "cell_type": "code",
     "collapsed": false,
     "input": "# What version are we on?\npandas.__version__",
     "language": "python",
     "metadata": {},
     "outputs": []
    },
    {
     "cell_type": "code",
     "collapsed": false,
     "input": "# This will be used in many of the examples so we declare it at the top\nrandn = np.random.randn",
     "language": "python",
     "metadata": {},
     "outputs": []
    },
    {
     "cell_type": "heading",
     "level": 2,
     "metadata": {},
     "source": "Series"
    },
    {
     "cell_type": "heading",
     "level": 3,
     "metadata": {},
     "source": "Create"
    },
    {
     "cell_type": "code",
     "collapsed": false,
     "input": "# Make data\ndata = [0,1,2,3,4]\n\n# Create a basic series\ns = Series(data)\n\n# An integer index (row labels) is automatically created for you (0,1,...,4)\ns",
     "language": "python",
     "metadata": {},
     "outputs": []
    },
    {
     "cell_type": "code",
     "collapsed": false,
     "input": "# We can create our own index\n# The length of both the input and the index must be equal\n# the index does not have to be unique, but that is the idea\ns = Series(data, index=['a','b','c','d','e'])\ns",
     "language": "python",
     "metadata": {},
     "outputs": []
    },
    {
     "cell_type": "heading",
     "level": 3,
     "metadata": {},
     "source": "Slice and Dice"
    },
    {
     "cell_type": "code",
     "collapsed": false,
     "input": "# Different ways to select and slice the series\n\nprint 'First record in series:'\nprint s[0], '-'\nprint s['a'], '--'\nprint s.ix[0], '---'\nprint s.get_value('a'), '+'\n\nprint 'First three:'\nprint s[:3], '-'\nprint s.ix[:3], '--'\n\nprint 'Last record:'\nprint s[-1], '-'\nprint s.ix[-1], '--'\n\nprint 'Call multiple rows:'\nprint s[[0,2,4]], '-'\nprint s[['a','b','c']], '--'\nprint s.ix[[0,2,4]], '---'\n\nprint 'Select top records'\nprint s.head(), 'top 5'\nprint s.head(2), 'top 2'\n\nprint 'Select bottom records'\nprint s.tail(), 'tail 5'\nprint s.tail(2), 'tail 2'",
     "language": "python",
     "metadata": {},
     "outputs": []
    },
    {
     "cell_type": "heading",
     "level": 3,
     "metadata": {},
     "source": "Missing Data"
    },
    {
     "cell_type": "code",
     "collapsed": false,
     "input": "# Select any missing data\nprint 'null data:'\nprint s[isnull(s)]\n\n# Select data that is not null\nprint 'not null data:'\nprint s[notnull(s)], '-'\nprint s.dropna(), '--'",
     "language": "python",
     "metadata": {},
     "outputs": []
    },
    {
     "cell_type": "heading",
     "level": 3,
     "metadata": {},
     "source": "Computationals"
    },
    {
     "cell_type": "code",
     "collapsed": false,
     "input": "# We can apply functions to/on the entire Series\n\nprint \"Add the series to itself\"\nprint s.add(s)\n\nprint \"Returns the number of not null observations in the series\"\nprint s.count()\n\n# A complete list can be found here:\n# http://pandas.pydata.org/pandas-docs/stable/api.html",
     "language": "python",
     "metadata": {},
     "outputs": []
    },
    {
     "cell_type": "heading",
     "level": 2,
     "metadata": {},
     "source": "DataFrame"
    },
    {
     "cell_type": "heading",
     "level": 3,
     "metadata": {},
     "source": "Create"
    },
    {
     "cell_type": "code",
     "collapsed": false,
     "input": "# Create data for the dataframe\nS1 = Series([1,2,3,4,5,6,7,8,9,10], index=['a','b','c','d','e','f','g','h','i','j'])\nS2 = Series(randn(9), index=['a','b','c','d','e','f','g','h','i'])",
     "language": "python",
     "metadata": {},
     "outputs": []
    },
    {
     "cell_type": "code",
     "collapsed": false,
     "input": "# Create a dictionary\nS3 = {'one':S1, 'two':S2}\n\n#Create the dataframe\ndf = DataFrame(S3)\ndf\n\n# Notice that the series are of different size (not an issue)",
     "language": "python",
     "metadata": {},
     "outputs": []
    },
    {
     "cell_type": "code",
     "collapsed": false,
     "input": "# We can create dataframes' of a subset of S3\ntestdf1 = DataFrame(S3, index=['d','b','a'])\ntestdf1",
     "language": "python",
     "metadata": {},
     "outputs": []
    },
    {
     "cell_type": "code",
     "collapsed": false,
     "input": "testdf2 = DataFrame(S3, index=['d','b','a'], columns=['one'])\ntestdf2",
     "language": "python",
     "metadata": {},
     "outputs": []
    },
    {
     "cell_type": "code",
     "collapsed": false,
     "input": "# You can even introduce new columns\ntestdf3 = DataFrame(S3, columns=['one','three'])\ntestdf3",
     "language": "python",
     "metadata": {},
     "outputs": []
    },
    {
     "cell_type": "code",
     "collapsed": false,
     "input": "# Slice and dice your input by column\ntestdf4 = DataFrame(S3['one'])\ntestdf4",
     "language": "python",
     "metadata": {},
     "outputs": []
    },
    {
     "cell_type": "heading",
     "level": 3,
     "metadata": {},
     "source": "Add Columns\n\n"
    },
    {
     "cell_type": "code",
     "collapsed": false,
     "input": "# Add column named three\n# this will be the addition of one and two\ndf['three'] = df['one'] + df['two']\ndf",
     "language": "python",
     "metadata": {},
     "outputs": []
    },
    {
     "cell_type": "code",
     "collapsed": false,
     "input": "# Add column named positive\n# make a copy of column two but only choose positive numbers\n\n# df['positive'] = make column positive\n# df['two'] = values in column two\n# [df['two']>0] = all values in column two that are positive, this is a slive of column two\ndf['positive'] = df['two'][df['two']>0]\ndf",
     "language": "python",
     "metadata": {},
     "outputs": []
    },
    {
     "cell_type": "code",
     "collapsed": false,
     "input": "# Add a dummy column\n# dealing with nulls is not an issue\ndf['dummy'] = df['one'] * df['positive']\ndf",
     "language": "python",
     "metadata": {},
     "outputs": []
    },
    {
     "cell_type": "heading",
     "level": 3,
     "metadata": {},
     "source": "Computationals"
    },
    {
     "cell_type": "code",
     "collapsed": false,
     "input": "# We can apply functions to/on the entire dataframe\n\nprint \"Add the dataframe to itself\"\nprint df.add(df)\n\nprint \"Returns absthe number of not null observations in the dataframe\"\nprint df.count()\n\n# A complete list can be found here:\n# http://pandas.pydata.org/pandas-docs/stable/api.html",
     "language": "python",
     "metadata": {},
     "outputs": []
    },
    {
     "cell_type": "heading",
     "level": 3,
     "metadata": {},
     "source": "Time Series"
    },
    {
     "cell_type": "heading",
     "level": 4,
     "metadata": {},
     "source": "Create Dates"
    },
    {
     "cell_type": "code",
     "collapsed": false,
     "input": "# Create ten dates starting from 1/1/2011\nrng = date_range('1/1/2011', periods=10)\n\n# default range is daily\nfor d in rng:\n    print d",
     "language": "python",
     "metadata": {},
     "outputs": []
    },
    {
     "cell_type": "code",
     "collapsed": false,
     "input": "# Alternate way to set a date range\nrng = date_range(start='1/1/2011', end='1/12/2011')\n\n# default range is daily\nfor d in rng:\n    print d",
     "language": "python",
     "metadata": {},
     "outputs": []
    },
    {
     "cell_type": "code",
     "collapsed": false,
     "input": "# We can change the frequency\nrng = date_range('1/1/2011', periods=10, freq='MS')\n\nfor d in rng:\n    print d\n    \n#Frequancy coventions:\n#https://github.com/pydata/pandas/wiki/Proposed-Frequency-Conventions\n\n#B \tbusiness day frequency\n#D \tcalendar day frequency\n#W \tweekly frequency\n#M \tmonth end frequency\n#BM \tbusiness month end frequency\n#MS \tmonth start frequency\n#BMS \tbusiness month start frequency\n#Q \tquarter end frequency\n#BQ \tbusiness quarter endfrequency\n#QS \tquarter start frequency\n#BQS \tbusiness quarter start frequency\n#A \tyear end frequency\n#BA \tbusiness year end frequency\n#AS \tyear start frequency\n#BAS \tbusiness year start frequency\n#H \thourly frequency\n#T \tminutely frequency\n#S \tsecondly frequency\n#L \tmilliseonds\n#U \tmicroseconds",
     "language": "python",
     "metadata": {},
     "outputs": []
    },
    {
     "cell_type": "heading",
     "level": 3,
     "metadata": {},
     "source": "Series"
    },
    {
     "cell_type": "heading",
     "level": 4,
     "metadata": {},
     "source": "Slice and Dice - ROWS\n\n** Some of the slicing might not work if time series is not ordered"
    },
    {
     "cell_type": "code",
     "collapsed": false,
     "input": "# Create a series with dates as your index\ndata = [1,2,3,4,5,6,7,8,9,10]\nidx = date_range('1/1/2012', periods=10)\ns = Series(data, index=idx)\nprint s",
     "language": "python",
     "metadata": {},
     "outputs": []
    },
    {
     "cell_type": "code",
     "collapsed": false,
     "input": "# Different ways to select and slice time series rows in a series\n\nprint 'First record:'\nprint s[0], '-'\nprint s[:0], '--'\nprint s[0:1], '---'\nprint s['1/1/2012'], 'x'\nprint s[:'1/1/2012'], 'xx'\n\n# The same can be done with\n#print s.ix[]",
     "language": "python",
     "metadata": {},
     "outputs": []
    },
    {
     "cell_type": "code",
     "collapsed": false,
     "input": "print 'First three:'\nprint s[:3], '-'\nprint s[0:3], '--'\nprint s[:'1/3/2012'], '---'\n\n# The same can be done with\n#print s.ix[]",
     "language": "python",
     "metadata": {},
     "outputs": []
    },
    {
     "cell_type": "code",
     "collapsed": false,
     "input": "print 'Last record:'\nprint s[-1], '-'\nprint s[len(s)-1:], '--'\n\n# The same can be done with\n#print s.ix[]",
     "language": "python",
     "metadata": {},
     "outputs": []
    },
    {
     "cell_type": "code",
     "collapsed": false,
     "input": "print 'Call multiple rows:'\nprint s[[0,2,3,0]], '-'\nprint s[['1/1/2012','1/5/2012','1/1/2012']], '--'\n\n# The same can be done with\n#print s.ix[]",
     "language": "python",
     "metadata": {},
     "outputs": []
    },
    {
     "cell_type": "code",
     "collapsed": false,
     "input": "print 'Select top records'\nprint s.head(), 'top 5'\nprint s.head(2), 'top 2'",
     "language": "python",
     "metadata": {},
     "outputs": []
    },
    {
     "cell_type": "code",
     "collapsed": false,
     "input": "print 'Select bottom records'\nprint s.tail(), 'tail 5'\nprint s.tail(2), 'tail 2'",
     "language": "python",
     "metadata": {},
     "outputs": []
    },
    {
     "cell_type": "heading",
     "level": 3,
     "metadata": {},
     "source": "DataFrame"
    },
    {
     "cell_type": "heading",
     "level": 4,
     "metadata": {},
     "source": "Slice and Dice - ROWS\n\n** Some of the slicing might not work if time series is not ordered"
    },
    {
     "cell_type": "code",
     "collapsed": false,
     "input": "# Create a dataframe with dates as your index\ndata = [1,2,3,4,5,6,7,8,9,10]\nidx = date_range('1/1/2012', periods=10, freq='MS')\ndf = DataFrame(data, index=idx, columns=['Revenue'])\ndf",
     "language": "python",
     "metadata": {},
     "outputs": []
    },
    {
     "cell_type": "code",
     "collapsed": false,
     "input": "# Different ways to select and slice time series rows in a dataframe\n\nprint 'First record:'\nprint df[:0], '-'\nprint df[0:1], '--'\nprint df[:'1/1/2012'], '---'\n\n# The same as above can be done with\n#print df.ix[]\n\nprint df.ix[0], 'x'\nprint df.ix[datetime(2012,1,1)], 'xx'\nprint df.ix['1/1/2012'], 'xxx'\nprint df.xs(datetime(2012,1,1)), 'y'\nprint df.xs('1/1/2012'), 'yy'",
     "language": "python",
     "metadata": {},
     "outputs": []
    },
    {
     "cell_type": "code",
     "collapsed": false,
     "input": "print 'First three:'\nprint df[:3], '-'\nprint df[0:3], '--'\nprint df[:'1/3/2012'], '---'\n\n# The same can be done with\n#print df.ix[]",
     "language": "python",
     "metadata": {},
     "outputs": []
    },
    {
     "cell_type": "code",
     "collapsed": false,
     "input": "print 'Last record:'\nprint df[-1:], '-'\nprint df[len(df)-1:], '--'\n\n# The same as above can be done with\n#print df.ix[]\n\nprint df.ix[-1], '---'",
     "language": "python",
     "metadata": {},
     "outputs": []
    },
    {
     "cell_type": "code",
     "collapsed": false,
     "input": "print 'Call multiple rows:'\nprint df.ix[[0,2,3,0]], '-'\nprint df.ix[['1/1/2012','1/5/2012','1/1/2012']], '--'",
     "language": "python",
     "metadata": {},
     "outputs": []
    },
    {
     "cell_type": "code",
     "collapsed": false,
     "input": "print 'Select top records'\nprint df.head(), 'top 5'\nprint df.head(2), 'top 2'",
     "language": "python",
     "metadata": {},
     "outputs": []
    },
    {
     "cell_type": "code",
     "collapsed": false,
     "input": "print 'Select bottom records'\nprint df.tail(), 'tail 5'\nprint df.tail(2), 'tail 2'",
     "language": "python",
     "metadata": {},
     "outputs": []
    },
    {
     "cell_type": "heading",
     "level": 4,
     "metadata": {},
     "source": "Slice and Dice - COLUMNS"
    },
    {
     "cell_type": "code",
     "collapsed": false,
     "input": "# Select an entire column by its name\nprint df['Revenue']",
     "language": "python",
     "metadata": {},
     "outputs": []
    },
    {
     "cell_type": "code",
     "collapsed": false,
     "input": "# By date range\ndf['Revenue']['1/1/2012':'1/7/2012']",
     "language": "python",
     "metadata": {},
     "outputs": []
    },
    {
     "cell_type": "code",
     "collapsed": false,
     "input": "# By year\n# Returns every record in the year 2012\ndf['Revenue']['2012']",
     "language": "python",
     "metadata": {},
     "outputs": []
    },
    {
     "cell_type": "code",
     "collapsed": false,
     "input": "# By month\n# returns everything in January\ndf['Revenue']['2012-1']",
     "language": "python",
     "metadata": {},
     "outputs": []
    },
    {
     "cell_type": "code",
     "collapsed": false,
     "input": "# Everything up to : date\ndf['Revenue'][:'4/1/2012']",
     "language": "python",
     "metadata": {},
     "outputs": []
    },
    {
     "cell_type": "code",
     "collapsed": false,
     "input": "# Start date : everything else\ndf['Revenue']['3/1/2012':]",
     "language": "python",
     "metadata": {},
     "outputs": []
    },
    {
     "cell_type": "heading",
     "level": 3,
     "metadata": {},
     "source": "Down Sampling"
    },
    {
     "cell_type": "code",
     "collapsed": false,
     "input": "# Down Sampling - Converting data to a lower frequency\n# i.e. Monthly data to quarterly data\n\n# Convert our monthly dataframe from monthly to quarterly\nprint df\n\nQuarterly = df.resample('Q')\nQuarterly\n\n# By default the aggregated columns are averaged",
     "language": "python",
     "metadata": {},
     "outputs": []
    },
    {
     "cell_type": "code",
     "collapsed": false,
     "input": "# Convert our monthly dataframe from monthly to quarterly\n# This time down sample by the length\n\nQuarterly = df.resample('Q', how=len)\nQuarterly",
     "language": "python",
     "metadata": {},
     "outputs": []
    },
    {
     "cell_type": "code",
     "collapsed": false,
     "input": "# This time down sample by max, min, and count\n\nQuarterly = df.resample('Q', how=['max','min','count'])\nQuarterly",
     "language": "python",
     "metadata": {},
     "outputs": []
    },
    {
     "cell_type": "code",
     "collapsed": false,
     "input": "# You also have the ability to down sample differently per column\n\n# Add a new column\ndf['NewCol'] = df.Revenue\n\nMultipleHow = df.resample('Q', how={'Revenue': np.sum, 'NewCol': np.mean})\nMultipleHow",
     "language": "python",
     "metadata": {},
     "outputs": []
    },
    {
     "cell_type": "code",
     "collapsed": false,
     "input": "## NOT WORKING NEED HELP HERE\n\n# Closed='left' means it will pick the end \n# Closed='right' means it will pick the right (default)\n\n#Quarterly = df.resample('Q', how=['count'], closed='right')\n#print Quarterly\n\n#Quarterly = df.resample('Q', how=['count'], closed='left')\n#print Quarterly\n\n# There's also a label parameter with 'right' and 'left' oprions",
     "language": "python",
     "metadata": {},
     "outputs": []
    },
    {
     "cell_type": "heading",
     "level": 3,
     "metadata": {},
     "source": "Up Sampling"
    },
    {
     "cell_type": "code",
     "collapsed": false,
     "input": "# Up Sampling - Converting data to a higher frequency\n# i.e. Monthly data to daily data\n\n# Convert our monthly dataframe from monthly to daily\nprint df\n\nQuarterly = df.resample('D')\nprint Quarterly.head(40)\n\n# By default the added rows are null",
     "language": "python",
     "metadata": {},
     "outputs": []
    },
    {
     "cell_type": "code",
     "collapsed": false,
     "input": "# We can interpolate missing data\nfill = Quarterly.fillna(method='ffill') \nprint fill.head(40)",
     "language": "python",
     "metadata": {},
     "outputs": []
    },
    {
     "cell_type": "code",
     "collapsed": false,
     "input": "# We can add a zero to missing data\nfill = Quarterly.fillna(0) \nprint fill.head(40)",
     "language": "python",
     "metadata": {},
     "outputs": []
    },
    {
     "cell_type": "heading",
     "level": 3,
     "metadata": {},
     "source": "Munging"
    },
    {
     "cell_type": "code",
     "collapsed": false,
     "input": "# Here we create three different dataframes and merge them\ndf1 = DataFrame([1,2,3,4,5], index=date_range('1/1/2012', periods=5), columns=['df1_col'])\ndf2 = DataFrame(['a',2,'b',4,'c',6,7,8,9,10], index=date_range('1/1/2012', periods=10), columns=['df2_col'])\ndf3 = DataFrame(['happy','happy','joy','joy'], index=date_range('1/1/2011', periods=4), columns=['df3_col'])\n\n# Add another column to df3\ndf3['df3_col2'] = df3['df3_col']\n\n# Create a list of dataframes to combine\n# axis=0: stacks the dataframes on top of each other\n# axis=1: appends the dataframes horizontally\npieces = [df1,df2,df3]\nCombineData = concat(pieces,axis=1)\nCombineData",
     "language": "python",
     "metadata": {},
     "outputs": []
    },
    {
     "cell_type": "heading",
     "level": 3,
     "metadata": {},
     "source": "IO"
    },
    {
     "cell_type": "heading",
     "level": 4,
     "metadata": {},
     "source": "Dataframe to SQL"
    },
    {
     "cell_type": "heading",
     "level": 5,
     "metadata": {},
     "source": "Import sqlalchemy"
    },
    {
     "cell_type": "code",
     "collapsed": false,
     "input": "from sqlalchemy import *",
     "language": "python",
     "metadata": {},
     "outputs": []
    },
    {
     "cell_type": "code",
     "collapsed": false,
     "input": "# DB Parameters\nServerName = \"devdb4\\sql4\"\nDatabase = \"BizIntel\"\n\n# To create a temp table just add a \"#\" to the table name\n# To create a global table just add a \"##\" to the table name\nTableName = \"#TableCheckTest\"\n\n# pyobdc must be installed\nengine = create_engine('mssql+pyodbc://' + ServerName + '/' + Database)\nconn = engine.connect()",
     "language": "python",
     "metadata": {},
     "outputs": []
    },
    {
     "cell_type": "code",
     "collapsed": false,
     "input": "# Required for querying tables\nmetadata = MetaData(conn)\n\n## Create table\ntbl = Table(TableName, metadata,\n    Column('DateAdded', DateTime),\n    Column('Revenue', Integer)\n)\n\n# This actually creates a table in the sql database\n# checkfirst=True >> create if table does not exist\ntbl.create(checkfirst=True)",
     "language": "python",
     "metadata": {},
     "outputs": []
    },
    {
     "cell_type": "code",
     "collapsed": false,
     "input": "# Create data to insert into table\n# Create a dataframe with dates as your index\ndata = [1,2,3,4,5,6,7,8,9,10]\nidx = date_range('1/1/2012', periods=10, freq='MS')\ndf = DataFrame(data, index=idx, columns=['Revenue'])\n\n# Remove the index if you want to include it in the insert\ndf = df.reset_index()\n#print df",
     "language": "python",
     "metadata": {},
     "outputs": []
    },
    {
     "cell_type": "code",
     "collapsed": false,
     "input": "# Iterate through each of the columns and insert into table\nfor x in df.iterrows():\n    #print list(x[1])\n    sql = tbl.insert(list(x[1]))\n    conn.execute(sql)\n\n# select all form table\nsql = tbl.select()\nresult = conn.execute(sql)\nfor row in result:\n    print 'Write to SQL', row",
     "language": "python",
     "metadata": {},
     "outputs": []
    },
    {
     "cell_type": "heading",
     "level": 4,
     "metadata": {},
     "source": "SQL to Dataframe"
    },
    {
     "cell_type": "code",
     "collapsed": false,
     "input": "# Select all\nsql = tbl.select()\n\n# run sql code\nresult = conn.execute(sql)",
     "language": "python",
     "metadata": {},
     "outputs": []
    },
    {
     "cell_type": "code",
     "collapsed": false,
     "input": "# Insert to a dataframe\ndf2 = DataFrame(data=list(result), columns=result.keys())\n\n# Convert data types \ndf2.DateAdded = df2.DateAdded.astype('datetime64')\ndf2.Revenue = df2.Revenue.astype('int')\nprint ' '\nprint 'Data Types'\nprint df2.dtypes\n\n# Set index to dataframe\ndf2 = df2.set_index('DateAdded')\nprint ' '\nprint 'Read from SQL', df2\n#print df2.head().to_string()\n\n# Close connection\nconn.close()",
     "language": "python",
     "metadata": {},
     "outputs": []
    },
    {
     "cell_type": "heading",
     "level": 4,
     "metadata": {},
     "source": "Clipboard to Dataframe"
    },
    {
     "cell_type": "code",
     "collapsed": false,
     "input": "# Copy paste data into a dataframe\n# Make sure you first copy data before running the code\n\n# This example assumes you are copying data with the first column composed of dates\n# index_col=0, means the date column is in the first column\n# parse_dates=True, makes sure dates are converted to datetime datatypes\ndf = read_clipboard(index_col=0,parse_dates=True)\ndf\n\n# This has worked for me in SQL, Excel, and LibreOffice",
     "language": "python",
     "metadata": {},
     "outputs": []
    },
    {
     "cell_type": "heading",
     "level": 4,
     "metadata": {},
     "source": "Dataframe to Excel"
    },
    {
     "cell_type": "code",
     "collapsed": false,
     "input": "# Export dataframe to Excel\n# you can export to both .xls and .xlsx\ndf.to_excel('dfToExcel.xls','Sheet Name')",
     "language": "python",
     "metadata": {},
     "outputs": []
    },
    {
     "cell_type": "heading",
     "level": 4,
     "metadata": {},
     "source": "Dataframe to Excel (alternate)"
    },
    {
     "cell_type": "code",
     "collapsed": false,
     "input": "# Import packages\nfrom xlwt import *\nfrom pandas import *\nimport numpy as np",
     "language": "python",
     "metadata": {},
     "outputs": []
    },
    {
     "cell_type": "code",
     "collapsed": false,
     "input": "# Create a dataframe with dates as your index\ndata = [1,2,3,4,5,6,7,8,9,10]\nidx = date_range('1/1/2012', periods=10, freq='MS')\ndf = DataFrame(data, index=idx, columns=['Revenue'])\ndf",
     "language": "python",
     "metadata": {},
     "outputs": []
    },
    {
     "cell_type": "code",
     "collapsed": false,
     "input": "# Create a workbook\nwb = Workbook()\n\n# Add a sheet/tab\nws0 = wb.add_sheet('DataFrame_Test')",
     "language": "python",
     "metadata": {},
     "outputs": []
    },
    {
     "cell_type": "code",
     "collapsed": false,
     "input": "# Write dataframe\n\n# formatting values in excel\ndate_xf = easyxf(num_format_str='DD/MM/YYYY') # sets date format in Excel\nnum_xf = easyxf(num_format_str='#0.000000') # sets date format in Excel\n\n# Iterate through each of the columns and insert into sheet\nfor i, (date, row) in enumerate(df.T.iteritems()):\n    #print i, date, row[0],type(row[0]).__name__\n\n    # Skip first line\n    if i > 0:\n        if type(date).__name__ == 'Timestamp':\n            ws0.write(i,0,date,date_xf)\n        elif type(date).__name__ == 'str':\n            ws0.write(i,0,date)\n        else:\n            ws0.write(i,0,date.astype(np.float),num_xf)\n        if type(row[0]).__name__ == 'Timestamp':\n            ws0.write(i,1,row[0].astype(np.float),date_xf)\n        elif type(row[0]).__name__ == 'str':\n            ws0.write(i,1,row[0].astype(np.float))\n        else:\n            ws0.write(i,1,row[0].astype(np.float),num_xf)",
     "language": "python",
     "metadata": {},
     "outputs": []
    },
    {
     "cell_type": "code",
     "collapsed": false,
     "input": "# Remove the index if you want to include it in the insert\ndf = df.reset_index()\n\n# Rename columns\ndf.columns = ['DateAdded', 'Revenue']\n\n# Add column Headers\nfor i, cols in enumerate(df.columns):\n    #print i, cols\n    ws0.write(0,i,cols)",
     "language": "python",
     "metadata": {},
     "outputs": []
    },
    {
     "cell_type": "code",
     "collapsed": false,
     "input": "# Write excel file\n# Note: This will overwrite any other files with the same name\nwb.save('DFtoExcel.xls')",
     "language": "python",
     "metadata": {},
     "outputs": []
    },
    {
     "cell_type": "heading",
     "level": 2,
     "metadata": {},
     "source": "Matplotlib"
    },
    {
     "cell_type": "code",
     "collapsed": false,
     "input": "#import statement (automatic in pylab)\nimport matplotlib.pyplot as plt",
     "language": "python",
     "metadata": {},
     "outputs": []
    },
    {
     "cell_type": "code",
     "collapsed": false,
     "input": "#make some data\nx=linspace(1,50,100) # linspace(start,end,num_points) \ny=np.sin(x)\n\n#a line graph:\nplot(x,y)",
     "language": "python",
     "metadata": {},
     "outputs": []
    },
    {
     "cell_type": "code",
     "collapsed": false,
     "input": "#a scatter plot\nscatter(x,y)",
     "language": "python",
     "metadata": {},
     "outputs": []
    },
    {
     "cell_type": "code",
     "collapsed": false,
     "input": "#another way to make a scatter plot\nplot(x,y,'x')",
     "language": "python",
     "metadata": {},
     "outputs": []
    },
    {
     "cell_type": "code",
     "collapsed": false,
     "input": "#by default all the plots go into the same figure. we can make a new figure by calling figure()\n#we can also get a refrence to the figure\n\n#WITHOUT calling figure()\n\n#a line graph:\nplot(x,y)\n\n#a scatter plot\nscatter(x,y)\n",
     "language": "python",
     "metadata": {},
     "outputs": []
    },
    {
     "cell_type": "code",
     "collapsed": false,
     "input": "#calling figure()\n\n#a line graph:\nplot(x,y)\n\nfig=figure()\n\n#a scatter plot\nscatter(x,y)",
     "language": "python",
     "metadata": {},
     "outputs": []
    },
    {
     "cell_type": "code",
     "collapsed": false,
     "input": "#plot the data, show data points as x's, connect them with a line, make it red and kinda see through\n#name the data\nplt.plot(x,y, 'x-', color='red', alpha=.5, label='the data')\n\n#add a title\nplt.title('The Title')\n\n#name the axis\nxlabel('x axis label')\nylabel('y axis label')\n\n#the legend\nplt.legend(loc='best') #loc = 'best' tries to make the legend not overlap the data\n\n#turn a grid on\nplt.grid()\n\n#save the figure as an image\n#this will create a \".png\" file in the file location you run the code in \nplt.savefig('test_fig.png')",
     "language": "python",
     "metadata": {},
     "outputs": []
    },
    {
     "cell_type": "code",
     "collapsed": false,
     "input": "#subplots and multiple lines\n\nt=linspace(1,100,100)\nx1=np.sin(20./(2*pi) * t)\nx2=np.sin(40./(2*pi)*t)\nx3=x1+x2\n\nfigure()\nsubplot(2,1,1)\nplot(t,x1,label='x1')\nplot(t,x2,label='x2')\nplot(t,x3,label='x3')\nlegend(loc='best')\n\nsubplot(2,1,2)\n#plot a histogram\n#we save the histogram data but it is not needed to do so for plotting purposes\nx1hist=hist(x1,normed='true', bins=25, alpha=.25,label='x1')\nlegend(loc='best')",
     "language": "python",
     "metadata": {},
     "outputs": []
    },
    {
     "cell_type": "code",
     "collapsed": false,
     "input": "#more histograms\nx1=np.random.randn(1000)\nx2=2.0*np.random.randn(1000)+2\n\nx1h=hist(x1,bins=50,alpha=.25)\nx2h=hist(x2,bins=50,alpha=.25)",
     "language": "python",
     "metadata": {},
     "outputs": []
    },
    {
     "cell_type": "heading",
     "level": 2,
     "metadata": {},
     "source": "BaseMap"
    },
    {
     "cell_type": "code",
     "collapsed": false,
     "input": "from mpl_toolkits.basemap import Basemap\nimport matplotlib.pyplot as plt",
     "language": "python",
     "metadata": {},
     "outputs": []
    },
    {
     "cell_type": "code",
     "collapsed": false,
     "input": "#setup the projection\nm = Basemap(projection='merc',llcrnrlat=20,urcrnrlat=50,\\\n                llcrnrlon=-130,urcrnrlon=-60,lat_ts=20,resolution='i')",
     "language": "python",
     "metadata": {},
     "outputs": []
    },
    {
     "cell_type": "code",
     "collapsed": false,
     "input": "#create some points to plot\n#provided is a csv file with the lat/long of US states\nimport pandas as pd\nfrom pandas import DataFrame\ndata=pd.read_csv('DataFiles\\\\usa_lat_long.csv') #it has some duplicates\ndata.head()",
     "language": "python",
     "metadata": {},
     "outputs": []
    },
    {
     "cell_type": "code",
     "collapsed": false,
     "input": "#I just want the lat/long in a list\npoints=data[['longitude','latitude']].values",
     "language": "python",
     "metadata": {},
     "outputs": []
    },
    {
     "cell_type": "code",
     "collapsed": false,
     "input": "#transform the points into map coordinates\ntransform_points=[m(lng, lat) for lng, lat in points]",
     "language": "python",
     "metadata": {},
     "outputs": []
    },
    {
     "cell_type": "code",
     "collapsed": false,
     "input": "#do all the drawing:\nfig=figure(figsize=(10,10)) #make a larger than default image\nfig.add_subplot(1,1,1) #not strictly required\n\nm.drawmapboundary(fill_color='white')\nm.fillcontinents(color='white',lake_color='white')\nm.drawcoastlines(color='black', linewidth=.3)\nm.drawcountries(color='black', linewidth=.3)\nm.drawstates(color='black', linewidth=.3)\n\n#plot the points on the  map. These are just regular calls to matplotlib with x,y data\n#you could also do this in one shot by using plot(xlist, ylist...)\n#or using scatter(). \nfor x,y in transform_points:\n    plot(x,y,'o',color='red',ms=10*rand()) #plot them at random sizes\n\n#we can plot some labels\ntext(transform_points[7][0],transform_points[7][1],'California',fontsize=15)\ntext(transform_points[12][0],transform_points[12][1],'Florida',fontsize=15)\n\n#draw some great circles\nlng1,lat1 =points[12]\nlng2,lat2 =points[7]\nm.drawgreatcircle(lng1,lat1,lng2,lat2,linewidth=3,color='blue',alpha=.5)",
     "language": "python",
     "metadata": {},
     "outputs": []
    },
    {
     "cell_type": "heading",
     "level": 2,
     "metadata": {},
     "source": "Scipy Solver"
    },
    {
     "cell_type": "code",
     "collapsed": false,
     "input": "# Objective Function\n#Max C = 2x + 3y\n\n# Constraints\n#2x+y<=15\n#x+3y<=20\n#x>=0\n#y>=0\n\n# Solution\n#(5,5)\n",
     "language": "python",
     "metadata": {},
     "outputs": []
    },
    {
     "cell_type": "code",
     "collapsed": false,
     "input": "from scipy.optimize import minimize",
     "language": "python",
     "metadata": {},
     "outputs": []
    },
    {
     "cell_type": "code",
     "collapsed": false,
     "input": "# Since the objective is to maximize C, we\n# multiple the objective function by -1\n\n# x[0] equals x\n# x[1] equals y\n\n## Objective Function\nfun = lambda x: -1*(2*x[0] + 3*x[1])",
     "language": "python",
     "metadata": {},
     "outputs": []
    },
    {
     "cell_type": "code",
     "collapsed": false,
     "input": "# Equality constraint are defined as follows:\n# This is not in the correct format: x = -2\n# Equation has to always be equal to zero: x + 2 = 0\n# i.e. {'type': 'eq', 'fun': lambda x: x[0] + 2}\n\n#-------------------------------------------------------------\n\n# Inequality contraints are defined as follows:\n# This is not in the correct format: 2x+y<=15\n# Equation has to always be greater than or equal to zero: 0 <= 15 + -2x + -y \n\n## Contraints\ncons = ({'type': 'ineq', 'fun': lambda x:  15 + -2*x[0] + -1*x[1]}, #15-2x-y>=0\n         {'type': 'ineq', 'fun': lambda x: 20 + -1*x[0] + -3*x[1]}, #20-x-3y\n         {'type': 'ineq', 'fun': lambda x: x[0]}, #x>=0\n         {'type': 'ineq', 'fun': lambda x: x[1]}) #y>=0",
     "language": "python",
     "metadata": {},
     "outputs": []
    },
    {
     "cell_type": "code",
     "collapsed": false,
     "input": "# STILL NOT SURE WHAT THIS MEANS\n\n## Bounds\nbnds = ((None, None), (None, None))",
     "language": "python",
     "metadata": {},
     "outputs": []
    },
    {
     "cell_type": "code",
     "collapsed": false,
     "input": "## Solver\n#   = minimize(Objective Function, Initial Guess, Solver to use, Bounds, Constraints)\nres = minimize(fun, (0, 0), method='SLSQP', bounds=bnds, constraints=cons)\nres\n\n# solution is in res.x",
     "language": "python",
     "metadata": {},
     "outputs": []
    },
    {
     "cell_type": "heading",
     "level": 2,
     "metadata": {},
     "source": "SQLAlchemy"
    },
    {
     "cell_type": "code",
     "collapsed": false,
     "input": "from sqlalchemy import *",
     "language": "python",
     "metadata": {},
     "outputs": []
    },
    {
     "cell_type": "heading",
     "level": 3,
     "metadata": {},
     "source": "Connecting"
    },
    {
     "cell_type": "code",
     "collapsed": false,
     "input": "# Parameters\nServerName = \"Type Server Name Here\"\nDatabase = \"Type database name here\"\nTableName = \"Type table name here\"\n\n# Note: pyobdc must be installed\nengine = create_engine('mssql+pyodbc://' + ServerName + '/' + Database)\nconn = engine.connect()",
     "language": "python",
     "metadata": {},
     "outputs": []
    },
    {
     "cell_type": "heading",
     "level": 3,
     "metadata": {},
     "source": "SELECT Statements"
    },
    {
     "cell_type": "code",
     "collapsed": false,
     "input": "# Required for querying tables\nmetadata = MetaData(conn)\n\n# Table to query\ntbl = Table(TableName, metadata, autoload=True, schema=\"dbo\")\n\n# select all where \nsql = select(tbl.c.Column1 == 'Type value to match')\n\n# select specific columns\nsql = select([tbl.c.Column1, tbl.c.Column2, tbl.c.Column3])\n\n# select top N\nsql = select([tbl.c.Column1, tbl.c.Column2, tbl.c.Column3],limit=10)\n\n# select specific column and a where clause\nsql = select([tbl.c.Column1], tbl.c.Column1 == 'Type value to match')\n\n# and, or, not, in\nsql = select([tbl], and_(tbl.c.Column1 < 4, tbl.c.Column1 != 1))\nsql = select([tbl], or_(tbl.c.Column1 < 4, tbl.c.Column1 != 1))\nsql = select([tbl], not_(tbl.c.Column1 > 4))\nsql = select([tbl], tbl.c.Column1.in_( (1,4) ))\n\n# like, between\nsql = select([tbl], tbl.c.Column1.startswith('M'))\nsql = select([tbl], tbl.c.Column1.like('%a%'))\nsql = select([tbl], tbl.c.Column1.endswith('n'))\nsql = select([tbl], tbl.c.Column1.between(30,39),limit=10)\n\nresult = conn.execute(sql)\nfor row in result:\n    print row\n\n# Close connection\nconn.close()",
     "language": "python",
     "metadata": {},
     "outputs": []
    },
    {
     "cell_type": "heading",
     "level": 2,
     "metadata": {},
     "source": "IPython NoteBook"
    },
    {
     "cell_type": "code",
     "collapsed": false,
     "input": "# Import related packages\nfrom IPython.display import YouTubeVideo,HTML,Image",
     "language": "python",
     "metadata": {},
     "outputs": []
    },
    {
     "cell_type": "code",
     "collapsed": false,
     "input": "# Embed Videos\nYouTubeVideo('BHEr1dBc0yM');",
     "language": "python",
     "metadata": {},
     "outputs": []
    },
    {
     "cell_type": "code",
     "collapsed": false,
     "input": "# Embed WebPages\nHTML('<iframe src=http://m.bing.com/ width=700 height=350></iframe>');",
     "language": "python",
     "metadata": {},
     "outputs": []
    },
    {
     "cell_type": "code",
     "collapsed": false,
     "input": "# Embed Images\nImage(filename='DataFiles\\infiniteenergy.jpg');",
     "language": "python",
     "metadata": {},
     "outputs": []
    },
    {
     "cell_type": "code",
     "collapsed": false,
     "input": "",
     "language": "python",
     "metadata": {},
     "outputs": []
    }
   ],
   "metadata": {}
  }
 ]
}